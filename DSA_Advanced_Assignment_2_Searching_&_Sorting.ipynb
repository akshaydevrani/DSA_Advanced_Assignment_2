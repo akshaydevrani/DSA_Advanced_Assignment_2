{
 "cells": [
  {
   "cell_type": "code",
   "execution_count": 5,
   "id": "3164ef53",
   "metadata": {},
   "outputs": [
    {
     "name": "stdout",
     "output_type": "stream",
     "text": [
      "Target value 11 found at index 10\n"
     ]
    }
   ],
   "source": [
    "#Q1. Implement Binary Search.\n",
    "\n",
    "def binary_search(arr, target):\n",
    "    left, right = 0, len(arr) - 1\n",
    "    \n",
    "    while left <= right:\n",
    "        mid = left + (right - left) // 2\n",
    "        \n",
    "        if arr[mid] == target:\n",
    "            return mid\n",
    "        elif arr[mid] < target:\n",
    "            left = mid + 1\n",
    "        else:\n",
    "            right = mid - 1\n",
    "    \n",
    "    return -1\n",
    "\n",
    "sorted_array = [1, 2, 3, 4, 5, 6, 7, 8, 9, 10, 11, 12, 13, 14, 15,16, 17, 18, 19, 20]\n",
    "target_value = 11\n",
    "\n",
    "result = binary_search(sorted_array, target_value)\n",
    "\n",
    "if result != -1:\n",
    "    print(f\"Target value {target_value} found at index {result}\")\n",
    "else:\n",
    "    print(\"Target value not found\")"
   ]
  },
  {
   "cell_type": "code",
   "execution_count": 8,
   "id": "c6557794",
   "metadata": {},
   "outputs": [
    {
     "name": "stdout",
     "output_type": "stream",
     "text": [
      "[1, 2, 3, 4, 5, 6, 7, 8, 9, 12]\n"
     ]
    }
   ],
   "source": [
    "#Q2. Implement Merge Sort.\n",
    "\n",
    "def merge_sort(arr):\n",
    "    if len(arr) <= 1:\n",
    "        return arr    \n",
    "   \n",
    "    mid = len(arr) // 2\n",
    "    left_half = arr[:mid]\n",
    "    right_half = arr[mid:]    \n",
    "    \n",
    "    left_half = merge_sort(left_half)\n",
    "    right_half = merge_sort(right_half)    \n",
    "  \n",
    "    return merge(left_half, right_half)\n",
    "\n",
    "def merge(left, right):\n",
    "    result = []\n",
    "    left_idx, right_idx = 0, 0\n",
    "    \n",
    "    while left_idx < len(left) and right_idx < len(right):\n",
    "        if left[left_idx] < right[right_idx]:\n",
    "            result.append(left[left_idx])\n",
    "            left_idx += 1\n",
    "        else:\n",
    "            result.append(right[right_idx])\n",
    "            right_idx += 1\n",
    "    \n",
    "    result.extend(left[left_idx:])\n",
    "    result.extend(right[right_idx:])\n",
    "    \n",
    "    return result\n",
    "\n",
    "unsorted_array = [12, 4, 5, 6, 7, 3, 8, 1, 2, 9]\n",
    "sorted_array = merge_sort(unsorted_array)\n",
    "print(sorted_array)"
   ]
  },
  {
   "cell_type": "code",
   "execution_count": 5,
   "id": "a0f0111d",
   "metadata": {},
   "outputs": [
    {
     "name": "stdout",
     "output_type": "stream",
     "text": [
      "[1, 1, 2, 3, 6, 8, 10]\n"
     ]
    }
   ],
   "source": [
    "#Q3. Implement Quick Sort.\n",
    "\n",
    "def quick_sort(arr):\n",
    "    if len(arr) <= 1:\n",
    "        return arr  \n",
    "\n",
    "    pivot = arr[len(arr) // 2]\n",
    "    left = [x for x in arr if x < pivot]\n",
    "    middle = [x for x in arr if x == pivot]\n",
    "    right = [x for x in arr if x > pivot]\n",
    "\n",
    "    return quick_sort(left) + middle + quick_sort(right)\n",
    "\n",
    "my_array = [3, 6, 8, 10, 1, 2, 1]\n",
    "sorted_array = quick_sort(my_array)\n",
    "print(sorted_array)"
   ]
  },
  {
   "cell_type": "code",
   "execution_count": 6,
   "id": "9278fa9d",
   "metadata": {},
   "outputs": [
    {
     "name": "stdout",
     "output_type": "stream",
     "text": [
      "Sorted array: [5, 6, 11, 12, 13]\n"
     ]
    }
   ],
   "source": [
    "#Q4. Implement Insertion Sort.\n",
    "\n",
    "def insertion_sort(arr):\n",
    "    for i in range(1, len(arr)):\n",
    "        key = arr[i]\n",
    "        j = i - 1\n",
    "        \n",
    "        while j >= 0 and key < arr[j]:\n",
    "            arr[j + 1] = arr[j]\n",
    "            j -= 1\n",
    "\n",
    "        arr[j + 1] = key\n",
    "\n",
    "my_array = [12, 11, 13, 5, 6]\n",
    "insertion_sort(my_array)\n",
    "print(\"Sorted array:\", my_array)"
   ]
  },
  {
   "cell_type": "code",
   "execution_count": 13,
   "id": "082fbff9",
   "metadata": {},
   "outputs": [
    {
     "name": "stdout",
     "output_type": "stream",
     "text": [
      "Sorted list: ['apple', 'apricot', 'banana', 'cherry', 'date']\n",
      "Sorted list descending: ['date', 'cherry', 'banana', 'apricot', 'apple']\n"
     ]
    }
   ],
   "source": [
    "#Q5. Write a program to sort list of strings (similar to that of dictionary).\n",
    "\n",
    "string_list = [\"apple\", \"banana\", \"cherry\", \"date\", \"apricot\"]\n",
    "sorted_list = sorted(string_list)\n",
    "print(\"Sorted list:\", sorted_list)\n",
    "sorted_list_descending = sorted(string_list, reverse=True)\n",
    "print(\"Sorted list descending:\", sorted_list_descending)"
   ]
  }
 ],
 "metadata": {
  "kernelspec": {
   "display_name": "Python 3 (ipykernel)",
   "language": "python",
   "name": "python3"
  },
  "language_info": {
   "codemirror_mode": {
    "name": "ipython",
    "version": 3
   },
   "file_extension": ".py",
   "mimetype": "text/x-python",
   "name": "python",
   "nbconvert_exporter": "python",
   "pygments_lexer": "ipython3",
   "version": "3.11.3"
  }
 },
 "nbformat": 4,
 "nbformat_minor": 5
}
